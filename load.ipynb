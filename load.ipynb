{
 "cells": [
  {
   "cell_type": "code",
   "execution_count": 1,
   "metadata": {},
   "outputs": [
    {
     "name": "stderr",
     "output_type": "stream",
     "text": [
      "c:\\Users\\rlawt\\miniconda3\\envs\\rag\\lib\\site-packages\\pinecone\\data\\index.py:1: TqdmWarning: IProgress not found. Please update jupyter and ipywidgets. See https://ipywidgets.readthedocs.io/en/stable/user_install.html\n",
      "  from tqdm.autonotebook import tqdm\n"
     ]
    }
   ],
   "source": [
    "from dotenv import load_dotenv\n",
    "load_dotenv()\n",
    "import os\n",
    "from openai import OpenAI\n",
    "from pinecone import Pinecone, ServerlessSpec"
   ]
  },
  {
   "cell_type": "code",
   "execution_count": 2,
   "metadata": {},
   "outputs": [],
   "source": [
    "pc = Pinecone(api_key=os.getenv(\"PINECONE_API_KEY\"))\n",
    "pc.create_index(\n",
    "    name=\"rmp-reviews\", dimension=1536, metric=\"cosine\", spec=ServerlessSpec(cloud=\"aws\", region=\"us-east-1\")\n",
    ")"
   ]
  },
  {
   "cell_type": "code",
   "execution_count": 8,
   "metadata": {},
   "outputs": [
    {
     "data": {
      "text/plain": [
       "[{'professor': 'Dr. Emily Johnson',\n",
       "  'subject': 'Introduction to Computer Science',\n",
       "  'stars': 4,\n",
       "  'review': \"Dr. Johnson is an excellent professor. Her lectures are engaging and she genuinely cares about her students' learning. Highly recommended!\"},\n",
       " {'professor': 'Professor Michael Lee',\n",
       "  'subject': 'Organic Chemistry',\n",
       "  'stars': 3,\n",
       "  'review': \"Professor Lee's class is challenging, but he is knowledgeable and willing to help students who put in the effort. The grading can be tough, but it's fair.\"},\n",
       " {'professor': 'Dr. Sarah Patel',\n",
       "  'subject': 'World History',\n",
       "  'stars': 5,\n",
       "  'review': 'Dr. Patel is passionate about the subject and her lectures are informative and thought-provoking. She encourages class discussions and makes the material interesting.'},\n",
       " {'professor': 'Professor John Wilson',\n",
       "  'subject': 'Principles of Marketing',\n",
       "  'stars': 4,\n",
       "  'review': 'Professor Wilson is knowledgeable and provides relevant real-world examples. His grading is fair, and he is accessible during office hours.'},\n",
       " {'professor': 'Dr. Lily Chen',\n",
       "  'subject': 'Intro to Psychology',\n",
       "  'stars': 4,\n",
       "  'review': 'Dr. Chen is a great lecturer who makes the course material engaging and accessible. Her exams are challenging but fair.'},\n",
       " {'professor': 'Professor David Hernandez',\n",
       "  'subject': 'Calculus I',\n",
       "  'stars': 3,\n",
       "  'review': 'Professor Hernandez is knowledgeable, but his lectures can be dry and difficult to follow at times. The workload is heavy, but the material is important.'},\n",
       " {'professor': 'Dr. Sophia Nguyen',\n",
       "  'subject': 'Comparative Literature',\n",
       "  'stars': 5,\n",
       "  'review': 'Dr. Nguyen is an exceptional professor. Her passion for the subject is evident, and she facilitates engaging discussions. I highly recommend taking her courses.'},\n",
       " {'professor': 'Professor Alex Ramirez',\n",
       "  'subject': 'Introduction to Sociology',\n",
       "  'stars': 4,\n",
       "  'review': 'Professor Ramirez is a knowledgeable and approachable instructor. His lectures are interesting, and he is open to student questions and feedback.'},\n",
       " {'professor': 'Dr. Isabella Rossi',\n",
       "  'subject': 'Organic Chemistry II',\n",
       "  'stars': 3,\n",
       "  'review': 'Dr. Rossi is a challenging professor, but the material is important. She is willing to help students who seek her assistance.'},\n",
       " {'professor': 'Professor Ethan Kim',\n",
       "  'subject': 'Introduction to Programming',\n",
       "  'stars': 4,\n",
       "  'review': 'Professor Kim is a great teacher who explains concepts clearly and provides ample opportunities for hands-on learning. The course workload is manageable.'},\n",
       " {'professor': 'Dr. Olivia Gonzalez',\n",
       "  'subject': 'Principles of Economics',\n",
       "  'stars': 4,\n",
       "  'review': \"Dr. Gonzalez's lectures are engaging and she provides helpful examples to illustrate economic theories. The course is well-organized and challenging.\"},\n",
       " {'professor': 'Professor Liam Zhao',\n",
       "  'subject': 'Differential Equations',\n",
       "  'stars': 3,\n",
       "  'review': 'Professor Zhao is knowledgeable, but his teaching style can be dry at times. The course material is difficult, but he is available for extra help.'},\n",
       " {'professor': 'Dr. Avery Patel',\n",
       "  'subject': 'Intro to Biology',\n",
       "  'stars': 4,\n",
       "  'review': 'Dr. Patel is an enthusiastic professor who makes the course content interesting. The labs are well-designed and complement the lectures.'},\n",
       " {'professor': 'Professor Ava Nguyen',\n",
       "  'subject': 'Modern World History',\n",
       "  'stars': 5,\n",
       "  'review': 'Professor Nguyen is an engaging lecturer who brings history to life. Her assignments are challenging but fair, and she is always available to provide guidance.'},\n",
       " {'professor': 'Dr. Liam Hernandez',\n",
       "  'subject': 'Principles of Management',\n",
       "  'stars': 4,\n",
       "  'review': 'Dr. Hernandez is a knowledgeable professor who relates the course material to real-world business scenarios. The workload is manageable, and he provides valuable feedback.'},\n",
       " {'professor': 'Professor Sophia Ramirez',\n",
       "  'subject': 'Introduction to Psychology',\n",
       "  'stars': 4,\n",
       "  'review': 'Professor Ramirez is an enthusiastic and approachable instructor. Her lectures are informative, and she encourages class discussion.'},\n",
       " {'professor': 'Dr. Isabella Zhao',\n",
       "  'subject': 'Organic Chemistry I',\n",
       "  'stars': 3,\n",
       "  'review': 'Dr. Zhao is a knowledgeable professor, but her lectures can be dense and difficult to follow at times. The course workload is heavy, but the material is vital for future studies.'},\n",
       " {'professor': 'Professor Ethan Rossi',\n",
       "  'subject': 'Principles of Marketing',\n",
       "  'stars': 4,\n",
       "  'review': 'Professor Rossi is engaging and provides relevant examples to illustrate marketing concepts. The course assignments are challenging but valuable.'},\n",
       " {'professor': 'Dr. Olivia Kim',\n",
       "  'subject': 'Introduction to Computer Science',\n",
       "  'stars': 5,\n",
       "  'review': 'Dr. Kim is an exceptional professor who makes complex topics accessible. Her lectures are well-organized, and she is always available to help students.'},\n",
       " {'professor': 'Professor Liam Gonzalez',\n",
       "  'subject': 'Differential Equations',\n",
       "  'stars': 3,\n",
       "  'review': 'Professor Gonzalez is knowledgeable, but his teaching style can be dry at times. The course material is challenging, and he expects a lot from his students.'}]"
      ]
     },
     "execution_count": 8,
     "metadata": {},
     "output_type": "execute_result"
    }
   ],
   "source": [
    "import json\n",
    "data = json.load(open(\"reviews.json\"))\n",
    "data['reviews']"
   ]
  },
  {
   "cell_type": "code",
   "execution_count": 9,
   "metadata": {},
   "outputs": [],
   "source": [
    "processed_data = []\n",
    "client = OpenAI()\n",
    "\n",
    "for review in data['reviews']:\n",
    "    response = client.embeddings.create(\n",
    "        input=review['review'],\n",
    "        model=\"text-embedding-3-small\"\n",
    "    )\n",
    "    embedding = response.data[0].embedding\n",
    "    processed_data.append({\n",
    "        \"values\": embedding,\n",
    "        \"id\": review[\"professor\"],\n",
    "        \"metadata\": {\n",
    "            \"review\": review[\"review\"],\n",
    "            \"subject\": review[\"subject\"],\n",
    "            \"stars\": review[\"stars\"]\n",
    "        }\n",
    "\n",
    "    })"
   ]
  },
  {
   "cell_type": "code",
   "execution_count": null,
   "metadata": {},
   "outputs": [],
   "source": [
    "processed_data[0]"
   ]
  },
  {
   "cell_type": "code",
   "execution_count": 11,
   "metadata": {},
   "outputs": [
    {
     "data": {
      "text/plain": [
       "{'upserted_count': 20}"
      ]
     },
     "execution_count": 11,
     "metadata": {},
     "output_type": "execute_result"
    }
   ],
   "source": [
    "index = pc.Index(\"rag\")\n",
    "index.upsert(\n",
    "    vectors=processed_data,\n",
    "    namespace=\"ns1\"\n",
    ")"
   ]
  },
  {
   "cell_type": "code",
   "execution_count": 12,
   "metadata": {},
   "outputs": [
    {
     "data": {
      "text/plain": [
       "{'dimension': 1536,\n",
       " 'index_fullness': 0.0,\n",
       " 'namespaces': {'ns1': {'vector_count': 20}},\n",
       " 'total_vector_count': 20}"
      ]
     },
     "execution_count": 12,
     "metadata": {},
     "output_type": "execute_result"
    }
   ],
   "source": [
    "index.describe_index_stats()"
   ]
  }
 ],
 "metadata": {
  "kernelspec": {
   "display_name": "rag",
   "language": "python",
   "name": "python3"
  },
  "language_info": {
   "codemirror_mode": {
    "name": "ipython",
    "version": 3
   },
   "file_extension": ".py",
   "mimetype": "text/x-python",
   "name": "python",
   "nbconvert_exporter": "python",
   "pygments_lexer": "ipython3",
   "version": "3.10.14"
  }
 },
 "nbformat": 4,
 "nbformat_minor": 2
}
